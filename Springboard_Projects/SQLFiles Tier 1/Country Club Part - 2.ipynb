{
 "cells": [
  {
   "cell_type": "code",
   "execution_count": 1,
   "metadata": {
    "metadata": {}
   },
   "outputs": [
    {
     "name": "stdout",
     "output_type": "stream",
     "text": [
      "(0, 'Tennis Court 1', 5, 25, 10000, 200)\n",
      "(1, 'Tennis Court 2', 5, 25, 8000, 200)\n",
      "(2, 'Badminton Court', 0, 15.5, 4000, 50)\n",
      "(3, 'Table Tennis', 0, 5, 320, 10)\n",
      "(4, 'Massage Room 1', 9.9, 80, 4000, 3000)\n",
      "(5, 'Massage Room 2', 9.9, 80, 4000, 3000)\n",
      "(6, 'Squash Court', 3.5, 17.5, 5000, 80)\n",
      "(7, 'Snooker Table', 0, 5, 450, 15)\n",
      "(8, 'Pool Table', 0, 5, 400, 15)\n"
     ]
    }
   ],
   "source": [
    "import sqlite3\n",
    "import time\n",
    "\n",
    "def select_all_tasks(conn):\n",
    "    try:\n",
    "        with conn:\n",
    "            cur = conn.cursor()\n",
    "            query1 = \"\"\"\n",
    "            SELECT *\n",
    "            FROM FACILITIES\n",
    "            \"\"\"\n",
    "            cur.execute(query1)\n",
    "            rows = cur.fetchall()\n",
    "            for row in rows:\n",
    "                print(row)\n",
    "    except sqlite3.OperationalError as e:\n",
    "        print(f\"OperationalError: {e}\")\n",
    "\n",
    "def main():\n",
    "    database = \"sqlite_db_pythonsqlite.db\"\n",
    "    \n",
    "    try:\n",
    "        conn = sqlite3.connect(database, timeout=10)  # Aumenta el timeout si es necesario\n",
    "        select_all_tasks(conn)\n",
    "    except sqlite3.Error as e:\n",
    "        print(f\"Error: {e}\")\n",
    "    finally:\n",
    "        if conn:\n",
    "            conn.close()\n",
    "\n",
    "if __name__ == '__main__':\n",
    "    main()\n"
   ]
  },
  {
   "cell_type": "markdown",
   "metadata": {},
   "source": [
    "\n",
    "/* PART 2: SQLite\n",
    "/* We now want you to jump over to a local instance of the database on your machine. \n",
    "\n",
    "Copy and paste the LocalSQLConnection.py script into an empty Jupyter notebook, and run it. \n",
    "\n",
    "Make sure that the SQLFiles folder containing thes files is in your working directory, and\n",
    "that you haven't changed the name of the .db file from 'sqlite\\db\\pythonsqlite'.\n",
    "\n",
    "You should see the output from the initial query 'SELECT * FROM FACILITIES'."
   ]
  },
  {
   "cell_type": "code",
   "execution_count": 2,
   "metadata": {
    "metadata": {}
   },
   "outputs": [
    {
     "name": "stdout",
     "output_type": "stream",
     "text": [
      "2.6.0\n",
      "2. Query all tasks\n",
      "(0, 'Tennis Court 1', 5, 25, 10000, 200)\n",
      "(1, 'Tennis Court 2', 5, 25, 8000, 200)\n",
      "(2, 'Badminton Court', 0, 15.5, 4000, 50)\n",
      "(3, 'Table Tennis', 0, 5, 320, 10)\n",
      "(4, 'Massage Room 1', 9.9, 80, 4000, 3000)\n",
      "(5, 'Massage Room 2', 9.9, 80, 4000, 3000)\n",
      "(6, 'Squash Court', 3.5, 17.5, 5000, 80)\n",
      "(7, 'Snooker Table', 0, 5, 450, 15)\n",
      "(8, 'Pool Table', 0, 5, 400, 15)\n"
     ]
    }
   ],
   "source": [
    "import sqlite3\n",
    "from sqlite3 import Error\n",
    "\n",
    " \n",
    "def create_connection(db_file):\n",
    "    \"\"\" create a database connection to the SQLite database\n",
    "        specified by the db_file\n",
    "    :param db_file: database file\n",
    "    :return: Connection object or None\n",
    "    \"\"\"\n",
    "    conn = None\n",
    "    try:\n",
    "        conn = sqlite3.connect(db_file)\n",
    "        print(sqlite3.version)\n",
    "    except Error as e:\n",
    "        print(e)\n",
    " \n",
    "    return conn\n",
    "\n",
    " \n",
    "def select_all_tasks(conn):\n",
    "    \"\"\"\n",
    "    Query all rows in the tasks table\n",
    "    :param conn: the Connection object\n",
    "    :return:\n",
    "    \"\"\"\n",
    "    cur = conn.cursor()\n",
    "    \n",
    "    query1 = \"\"\"\n",
    "        SELECT *\n",
    "        FROM FACILITIES\n",
    "        \"\"\"\n",
    "    cur.execute(query1)\n",
    " \n",
    "    rows = cur.fetchall()\n",
    " \n",
    "    for row in rows:\n",
    "        print(row)\n",
    "\n",
    "\n",
    "def main():\n",
    "    database = \"sqlite_db_pythonsqlite.db\"\n",
    " \n",
    "    # create a database connection\n",
    "    conn = create_connection(database)\n",
    "    with conn: \n",
    "        print(\"2. Query all tasks\")\n",
    "        select_all_tasks(conn)\n",
    " \n",
    " \n",
    "if __name__ == '__main__':\n",
    "    main()"
   ]
  },
  {
   "cell_type": "markdown",
   "metadata": {},
   "source": [
    "\n",
    "\n",
    "Complete the remaining tasks in the Jupyter interface. If you struggle, feel free to go back\n",
    "to the PHPMyAdmin interface as and when you need to. \n",
    "\n",
    "You'll need to paste your query into value of the 'query1' variable and run the code block again to get an output.\n",
    " \n",
    "QUESTIONS:\n",
    "\n"
   ]
  },
  {
   "cell_type": "code",
   "execution_count": 6,
   "metadata": {
    "metadata": {}
   },
   "outputs": [],
   "source": [
    "import pandas as pd"
   ]
  },
  {
   "cell_type": "code",
   "execution_count": 9,
   "metadata": {
    "metadata": {}
   },
   "outputs": [],
   "source": [
    "database = 'sqlite_db_pythonsqlite.db'\n",
    "conn = sqlite3.connect(database)"
   ]
  },
  {
   "cell_type": "markdown",
   "metadata": {},
   "source": [
    "/* Q10: Produce a list of facilities with a total revenue less than 1000.\n",
    "The output of facility name and total revenue, sorted by revenue. Remember\n",
    "that there's a different cost for guests and members! */\n",
    "\n"
   ]
  },
  {
   "cell_type": "code",
   "execution_count": 30,
   "metadata": {
    "metadata": {}
   },
   "outputs": [
    {
     "name": "stdout",
     "output_type": "stream",
     "text": [
      "            name  ingresos\n",
      "0   Table Tennis       180\n",
      "1  Snooker Table       240\n",
      "2     Pool Table       270\n"
     ]
    }
   ],
   "source": [
    "# Definir la consulta SQL\n",
    "consulta_sql = \"\"\"\n",
    "SELECT \n",
    "    Facilities.name, \n",
    "    SUM(\n",
    "        CASE\n",
    "            WHEN Members.memid = 0 THEN Facilities.guestcost * Bookings.slots\n",
    "            ELSE Facilities.membercost * Bookings.slots\n",
    "        END\n",
    "    ) AS ingresos\n",
    "FROM \n",
    "    Bookings\n",
    "INNER JOIN \n",
    "    Facilities ON Bookings.facid = Facilities.facid\n",
    "INNER JOIN \n",
    "    Members ON Bookings.memid = Members.memid\n",
    "GROUP BY \n",
    "    Facilities.facid\n",
    "HAVING \n",
    "    ingresos < 1000\n",
    "ORDER BY \n",
    "    ingresos;\n",
    "\"\"\"\n",
    "\n",
    "# Ejecutar la consulta y obtener los resultados\n",
    "results = pd.read_sql_query(consulta_sql, conn)\n",
    "\n",
    "# Show the results\n",
    "print(results)\n"
   ]
  },
  {
   "cell_type": "markdown",
   "metadata": {},
   "source": [
    "/* Q11: Produce a report of members and who recommended them in alphabetic surname,firstname order */\n",
    "\n",
    "\n"
   ]
  },
  {
   "cell_type": "code",
   "execution_count": 38,
   "metadata": {
    "metadata": {}
   },
   "outputs": [
    {
     "name": "stdout",
     "output_type": "stream",
     "text": [
      "        membersurname memberfirstname recommended         by\n",
      "0               Bader        Florence    Stibbons     Ponder\n",
      "1               Baker            Anne    Stibbons     Ponder\n",
      "2               Baker         Timothy     Farrell     Jemima\n",
      "3              Boothe             Tim      Rownam        Tim\n",
      "4             Butters          Gerald       Smith     Darren\n",
      "5              Coplin            Joan       Baker    Timothy\n",
      "6             Crumpet           Erica       Smith      Tracy\n",
      "7                Dare           Nancy    Joplette     Janice\n",
      "8             Genting         Matthew     Butters     Gerald\n",
      "9                Hunt            John     Purview  Millicent\n",
      "10              Jones           David    Joplette     Janice\n",
      "11              Jones         Douglas       Jones      David\n",
      "12           Joplette          Janice       Smith     Darren\n",
      "13          Mackenzie            Anna       Smith     Darren\n",
      "14               Owen         Charles       Smith     Darren\n",
      "15             Pinker           David     Farrell     Jemima\n",
      "16            Purview       Millicent       Smith      Tracy\n",
      "17             Rumney       Henrietta     Genting    Matthew\n",
      "18             Sarwin       Ramnaresh       Bader   Florence\n",
      "19              Smith            Jack       Smith     Darren\n",
      "20           Stibbons          Ponder       Tracy     Burton\n",
      "21  Worthington-Smyth           Henry       Smith      Tracy\n"
     ]
    },
    {
     "data": {
      "text/plain": [
       "<function print>"
      ]
     },
     "execution_count": 38,
     "metadata": {},
     "output_type": "execute_result"
    }
   ],
   "source": [
    "sql = '''\n",
    "SELECT m1.surname as membersurname, m1.firstname as memberfirstname, m2.surname as recommended, m2.firstname as by\n",
    "FROM Members as m1\n",
    "  INNER JOIN Members as m2\n",
    "  ON m1.recommendedby=m2.memid\n",
    "ORDER BY membersurname, memberfirstname\n",
    "'''\n",
    "print(pd.read_sql_query(sql, conn))\n",
    "print"
   ]
  },
  {
   "cell_type": "markdown",
   "metadata": {},
   "source": [
    "/* Q12: Find the facilities with their usage by member, but not guests */\n",
    "\n"
   ]
  },
  {
   "cell_type": "code",
   "execution_count": 42,
   "metadata": {
    "metadata": {}
   },
   "outputs": [
    {
     "name": "stdout",
     "output_type": "stream",
     "text": [
      "               name  firstname            surname  sum\n",
      "0   Badminton Court       Anna          Mackenzie  231\n",
      "1    Tennis Court 1       Anne              Baker  296\n",
      "2    Tennis Court 2     Burton              Tracy  366\n",
      "3    Tennis Court 1    Charles               Owen  345\n",
      "4      Table Tennis     Darren              Smith  685\n",
      "5    Tennis Court 1      David            Farrell   50\n",
      "6    Tennis Court 2      David              Jones  305\n",
      "7     Snooker Table      David             Pinker  159\n",
      "8   Badminton Court    Douglas              Jones   37\n",
      "9   Badminton Court      Erica            Crumpet   17\n",
      "10  Badminton Court   Florence              Bader  237\n",
      "11   Tennis Court 1     Gerald            Butters  409\n",
      "12    Snooker Table  Henrietta             Rumney   38\n",
      "13  Badminton Court      Henry  Worthington-Smyth   60\n",
      "14    Snooker Table   Hyacinth         Tupperware   28\n",
      "15   Massage Room 1       Jack              Smith  219\n",
      "16   Massage Room 1     Janice           Joplette  326\n",
      "17     Table Tennis     Jemima            Farrell  180\n",
      "18    Snooker Table       Joan             Coplin  106\n",
      "19   Tennis Court 1       John               Hunt   40\n",
      "20   Massage Room 2    Matthew            Genting  131\n",
      "21  Badminton Court  Millicent            Purview   32\n",
      "22  Badminton Court      Nancy               Dare  267\n",
      "23   Tennis Court 2     Ponder           Stibbons  249\n",
      "24   Tennis Court 2  Ramnaresh             Sarwin  153\n",
      "25   Tennis Court 2        Tim             Boothe  440\n",
      "26   Massage Room 1        Tim             Rownam  660\n",
      "27   Tennis Court 2    Timothy              Baker  290\n",
      "28   Tennis Court 1      Tracy              Smith  435\n"
     ]
    }
   ],
   "source": [
    "sql =  '''\n",
    "SELECT f.name, m.firstname, m.surname, sum(b.slots) as sum\n",
    "FROM Facilities as f, Bookings as b, Members as m\n",
    "WHERE\n",
    "  (b.memid = m.memid AND b.facid = f.facid) \n",
    "  AND (b.memid <>0)\n",
    "GROUP BY m.firstname, m.surname\n",
    "ORDER BY m.firstname, m.surname\n",
    "'''\n",
    "print(pd.read_sql_query(sql, conn))"
   ]
  },
  {
   "cell_type": "markdown",
   "metadata": {},
   "source": [
    "\n",
    "/* Q13: Find the facilities usage by month, but not guests */"
   ]
  },
  {
   "cell_type": "code",
   "execution_count": 48,
   "metadata": {
    "metadata": {}
   },
   "outputs": [
    {
     "name": "stdout",
     "output_type": "stream",
     "text": [
      "      month             name  usage\n",
      "0   2012-07  Badminton Court    180\n",
      "1   2012-07   Massage Room 1    264\n",
      "2   2012-07   Massage Room 2     24\n",
      "3   2012-07       Pool Table    117\n",
      "4   2012-07    Snooker Table    156\n",
      "5   2012-07     Squash Court    164\n",
      "6   2012-07     Table Tennis    104\n",
      "7   2012-07   Tennis Court 1    270\n",
      "8   2012-07   Tennis Court 2    207\n",
      "9   2012-08  Badminton Court    459\n",
      "10  2012-08   Massage Room 1    492\n",
      "11  2012-08   Massage Room 2     82\n",
      "12  2012-08       Pool Table    322\n",
      "13  2012-08    Snooker Table    326\n",
      "14  2012-08     Squash Court    400\n",
      "15  2012-08     Table Tennis    304\n",
      "16  2012-08   Tennis Court 1    459\n",
      "17  2012-08   Tennis Court 2    483\n",
      "18  2012-09  Badminton Court    570\n",
      "19  2012-09   Massage Room 1    648\n",
      "20  2012-09   Massage Room 2    122\n",
      "21  2012-09       Pool Table    471\n",
      "22  2012-09    Snooker Table    426\n",
      "23  2012-09     Squash Court    540\n",
      "24  2012-09     Table Tennis    422\n",
      "25  2012-09   Tennis Court 1    591\n",
      "26  2012-09   Tennis Court 2    588\n"
     ]
    }
   ],
   "source": [
    "sql =  '''\n",
    "SELECT SUBSTR(b.starttime, 1, 7) AS month, f.name, sum(b.slots) as usage\n",
    "FROM Facilities as f\n",
    "LEFT JOIN Bookings as b\n",
    "ON b.facid = f.facid\n",
    "GROUP BY month, f.name\n",
    "'''\n",
    "print(pd.read_sql_query(sql, conn))"
   ]
  }
 ],
 "metadata": {
  "kernelspec": {
   "display_name": "base",
   "language": "python",
   "name": "python3"
  },
  "language_info": {
   "codemirror_mode": {
    "name": "ipython",
    "version": 3
   },
   "file_extension": ".py",
   "mimetype": "text/x-python",
   "name": "python",
   "nbconvert_exporter": "python",
   "pygments_lexer": "ipython3",
   "version": "3.10.12"
  }
 },
 "nbformat": 4,
 "nbformat_minor": 2
}
